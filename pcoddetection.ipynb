{
  "nbformat": 4,
  "nbformat_minor": 0,
  "metadata": {
    "colab": {
      "name": "pcoddetection.ipynb",
      "provenance": [],
      "collapsed_sections": [],
      "authorship_tag": "ABX9TyOm0mPWoSW5HXOpzKTKlsI3",
      "include_colab_link": true
    },
    "kernelspec": {
      "name": "python3",
      "display_name": "Python 3"
    }
  },
  "cells": [
    {
      "cell_type": "markdown",
      "metadata": {
        "id": "view-in-github",
        "colab_type": "text"
      },
      "source": [
        "<a href=\"https://colab.research.google.com/github/hiyabose/PCOD/blob/master/pcoddetection.ipynb\" target=\"_parent\"><img src=\"https://colab.research.google.com/assets/colab-badge.svg\" alt=\"Open In Colab\"/></a>"
      ]
    },
    {
      "cell_type": "code",
      "metadata": {
        "id": "ueA3mH-ypzLz"
      },
      "source": [
        ""
      ],
      "execution_count": null,
      "outputs": []
    },
    {
      "cell_type": "code",
      "metadata": {
        "id": "bjmwDY3mZOgj"
      },
      "source": [
        "import numpy as np #create arrays\n",
        "import pandas as pd\n",
        "import matplotlib.pyplot as plt #plot data\n",
        "import seaborn as sns #plot data\n",
        "import missingno as ms #plot missing data"
      ],
      "execution_count": null,
      "outputs": []
    },
    {
      "cell_type": "code",
      "metadata": {
        "id": "hR_xrGrqcJoU"
      },
      "source": [
        "df = pd.read_csv('https://raw.githubusercontent.com/hiyabose/PCOSmopolitan-1/master/pcos.csv', sep=',' , encoding='latin-1')"
      ],
      "execution_count": null,
      "outputs": []
    },
    {
      "cell_type": "code",
      "metadata": {
        "id": "2TFmWIMIc7p4"
      },
      "source": [
        "df.info()"
      ],
      "execution_count": null,
      "outputs": []
    },
    {
      "cell_type": "code",
      "metadata": {
        "id": "gkLsoDpOdPtK"
      },
      "source": [
        "\n",
        "df[[' Age (yrs)','Blood Group','Cycle length(days)','PCOS (Y/N)','Cycle(months)','Bloated','facial hair','chest hair','difficult to loose weight','mood swings','anxiety/depression/stress','Irregular_sleep','Fast food (Y/N)','Pregnant(Y/N)','No of aborptions','Hip(inch)','Waist(inch)','Weight gain(Y/N)','hair growth(Y/N)','Skin darkening (Y/N)','Hair loss(Y/N)','Pimples(Y/N)','Reg Exercise(Y/N)']] = df[[' Age (yrs)','Blood Group','Cycle length(days)','PCOS (Y/N)','Cycle(months)','Bloated','facial hair','chest hair','difficult to loose weight','mood swings','anxiety/depression/stress','Irregular_sleep','Fast food (Y/N)','Pregnant(Y/N)','No of aborptions','Hip(inch)','Waist(inch)','Weight gain(Y/N)','hair growth(Y/N)','Skin darkening (Y/N)','Hair loss(Y/N)','Pimples(Y/N)','Reg Exercise(Y/N)']].astype(float)"
      ],
      "execution_count": null,
      "outputs": []
    },
    {
      "cell_type": "code",
      "metadata": {
        "id": "jwm4-06N4N7A"
      },
      "source": [
        "df.info()"
      ],
      "execution_count": null,
      "outputs": []
    },
    {
      "cell_type": "code",
      "metadata": {
        "id": "bkbep7oxMI1y"
      },
      "source": [
        "from sklearn.linear_model import LogisticRegression"
      ],
      "execution_count": null,
      "outputs": []
    },
    {
      "cell_type": "code",
      "metadata": {
        "id": "QpU0jRleMQma"
      },
      "source": [
        "from sklearn.model_selection import train_test_split"
      ],
      "execution_count": null,
      "outputs": []
    },
    {
      "cell_type": "code",
      "metadata": {
        "id": "X72-5zGsMSGQ"
      },
      "source": [
        "train = df.drop(['Sl No','Patient File No','PCOS (Y/N)','Pulse rate(bpm) '], axis=1)\n",
        "train= np.asarray(train, dtype='float64')\n",
        "test = df['PCOS (Y/N)']\n",
        "test= np.asarray(test, dtype='float64')"
      ],
      "execution_count": null,
      "outputs": []
    },
    {
      "cell_type": "code",
      "metadata": {
        "id": "2-uNxzkpQPJS"
      },
      "source": [
        "test.shape"
      ],
      "execution_count": null,
      "outputs": []
    },
    {
      "cell_type": "code",
      "metadata": {
        "id": "oj-e1OGYQUA7"
      },
      "source": [
        "X_train, X_test, y_train, y_test = train_test_split(train,test, test_size=0.2, random_state=2)"
      ],
      "execution_count": null,
      "outputs": []
    },
    {
      "cell_type": "code",
      "metadata": {
        "id": "qBVWTPFEF3p4"
      },
      "source": [
        "lin_reg = LogisticRegression(solver='lbfgs', max_iter=1000)"
      ],
      "execution_count": null,
      "outputs": []
    },
    {
      "cell_type": "code",
      "metadata": {
        "id": "ZSrw1gUUGyNJ"
      },
      "source": [
        "#Train the model using the training sets\n",
        "lin_reg.fit(X_train, y_train)"
      ],
      "execution_count": null,
      "outputs": []
    },
    {
      "cell_type": "code",
      "metadata": {
        "id": "GL2Ne-ivG02k"
      },
      "source": [
        "#Predict the response for test dataset\n",
        "y_pred = lin_reg.predict(X_test)"
      ],
      "execution_count": null,
      "outputs": []
    },
    {
      "cell_type": "code",
      "metadata": {
        "id": "CdnpBgM-9Wb1"
      },
      "source": [
        "y_train.shape,y_test.shape"
      ],
      "execution_count": null,
      "outputs": []
    },
    {
      "cell_type": "markdown",
      "metadata": {
        "id": "xt_SgjOPl4XD"
      },
      "source": [
        ""
      ]
    },
    {
      "cell_type": "code",
      "metadata": {
        "id": "iE-JM8ssnlg0"
      },
      "source": [
        "y_pred"
      ],
      "execution_count": null,
      "outputs": []
    },
    {
      "cell_type": "code",
      "metadata": {
        "id": "n59Gy526noWx"
      },
      "source": [
        "lin_reg.score(X_test, y_test)"
      ],
      "execution_count": null,
      "outputs": []
    },
    {
      "cell_type": "markdown",
      "metadata": {
        "id": "9_DxX7txn07M"
      },
      "source": [
        "With an excellant accuracy of 99.38 %"
      ]
    },
    {
      "cell_type": "code",
      "metadata": {
        "id": "ot4gveNrnypk"
      },
      "source": [
        "X_test.shape"
      ],
      "execution_count": null,
      "outputs": []
    },
    {
      "cell_type": "code",
      "metadata": {
        "id": "fpoXOLw5oRjY"
      },
      "source": [
        "x=[[28,0,0,0,0,0,0,0,1,0,0,0,0,0,1,0,44,152,19.3,15,78,1,5,7,36,30,0.83333]]"
      ],
      "execution_count": null,
      "outputs": []
    },
    {
      "cell_type": "code",
      "metadata": {
        "id": "GLogYfaAoVg-"
      },
      "source": [
        "o = lin_reg.predict(x)\n",
        "print (o)"
      ],
      "execution_count": null,
      "outputs": []
    },
    {
      "cell_type": "code",
      "metadata": {
        "id": "dCebB9Eph4Dl"
      },
      "source": [
        "import pickle\n",
        "pickle.dump(lin_reg,open('model.pkl','wb'))\n",
        "model=pickle.load(open('model.pkl','rb'))"
      ],
      "execution_count": null,
      "outputs": []
    }
  ]
}
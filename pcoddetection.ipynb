{
  "nbformat": 4,
  "nbformat_minor": 0,
  "metadata": {
    "colab": {
      "name": "pcoddetection.ipynb",
      "provenance": [],
      "authorship_tag": "ABX9TyP7xCZKdiKr1GvgCehfe04E",
      "include_colab_link": true
    },
    "kernelspec": {
      "name": "python3",
      "display_name": "Python 3"
    }
  },
  "cells": [
    {
      "cell_type": "markdown",
      "metadata": {
        "id": "view-in-github",
        "colab_type": "text"
      },
      "source": [
        "<a href=\"https://colab.research.google.com/github/hiyabose/PCOD/blob/master/pcoddetection.ipynb\" target=\"_parent\"><img src=\"https://colab.research.google.com/assets/colab-badge.svg\" alt=\"Open In Colab\"/></a>"
      ]
    },
    {
      "cell_type": "code",
      "metadata": {
        "id": "ueA3mH-ypzLz",
        "colab_type": "code",
        "colab": {}
      },
      "source": [
        ""
      ],
      "execution_count": 12,
      "outputs": []
    },
    {
      "cell_type": "code",
      "metadata": {
        "id": "bjmwDY3mZOgj",
        "colab_type": "code",
        "colab": {}
      },
      "source": [
        "import numpy as np #create arrays\n",
        "import pandas.util.testing as tm\n",
        "import pandas as pd\n",
        "import matplotlib.pyplot as plt #plot data\n",
        "import seaborn as sns #plot data\n",
        "import missingno as ms #plot missing data"
      ],
      "execution_count": 13,
      "outputs": []
    },
    {
      "cell_type": "code",
      "metadata": {
        "id": "hR_xrGrqcJoU",
        "colab_type": "code",
        "colab": {}
      },
      "source": [
        "df = pd.read_csv('https://raw.githubusercontent.com/hiyabose/PCOD/master/newdata.csv', sep=',' , encoding='latin-1')"
      ],
      "execution_count": 14,
      "outputs": []
    },
    {
      "cell_type": "code",
      "metadata": {
        "id": "2TFmWIMIc7p4",
        "colab_type": "code",
        "colab": {
          "base_uri": "https://localhost:8080/",
          "height": 655
        },
        "outputId": "4563561c-0484-451a-fdba-88d46f80e7a1"
      },
      "source": [
        "df.info()"
      ],
      "execution_count": 15,
      "outputs": [
        {
          "output_type": "stream",
          "text": [
            "<class 'pandas.core.frame.DataFrame'>\n",
            "RangeIndex: 541 entries, 0 to 540\n",
            "Data columns (total 31 columns):\n",
            " #   Column                     Non-Null Count  Dtype  \n",
            "---  ------                     --------------  -----  \n",
            " 0   Sl No                      541 non-null    int64  \n",
            " 1   Patient File No            541 non-null    int64  \n",
            " 2   PCOS (Y/N)                 541 non-null    int64  \n",
            " 3    Age (yrs)                 541 non-null    int64  \n",
            " 4   Weight (Kg)                541 non-null    float64\n",
            " 5   Height(Cm)                 541 non-null    float64\n",
            " 6   BMI                        541 non-null    float64\n",
            " 7   Blood Group                541 non-null    int64  \n",
            " 8   Pulse rate(bpm)            541 non-null    int64  \n",
            " 9   Cycle(months)              541 non-null    int64  \n",
            " 10  Cycle length(days)         541 non-null    int64  \n",
            " 11  Marriage Status (Yrs)      541 non-null    float64\n",
            " 12  Pregnant(Y/N)              541 non-null    int64  \n",
            " 13  No of aborptions           541 non-null    int64  \n",
            " 14  Bloated                    541 non-null    int64  \n",
            " 15  facial hair                541 non-null    int64  \n",
            " 16  chest hair                 541 non-null    int64  \n",
            " 17  Hip(inch)                  541 non-null    int64  \n",
            " 18  Waist(inch)                541 non-null    int64  \n",
            " 19  Waist/Hip Ratio            541 non-null    float64\n",
            " 20  difficult to loose weight  541 non-null    int64  \n",
            " 21  mood swings                541 non-null    int64  \n",
            " 22  anxiety/depression/stress  541 non-null    int64  \n",
            " 23  Irregular_sleep            541 non-null    int64  \n",
            " 24  Weight gain(Y/N)           541 non-null    int64  \n",
            " 25  hair growth(Y/N)           541 non-null    int64  \n",
            " 26  Skin darkening (Y/N)       541 non-null    int64  \n",
            " 27  Hair loss(Y/N)             541 non-null    int64  \n",
            " 28  Pimples(Y/N)               541 non-null    int64  \n",
            " 29  Fast food (Y/N)            541 non-null    int64  \n",
            " 30  Reg Exercise(Y/N)          541 non-null    int64  \n",
            "dtypes: float64(5), int64(26)\n",
            "memory usage: 131.1 KB\n"
          ],
          "name": "stdout"
        }
      ]
    },
    {
      "cell_type": "code",
      "metadata": {
        "id": "gkLsoDpOdPtK",
        "colab_type": "code",
        "colab": {}
      },
      "source": [
        "\n",
        "df[[' Age (yrs)','Blood Group','Cycle length(days)','PCOS (Y/N)','Cycle(months)','Bloated','facial hair','chest hair','difficult to loose weight','mood swings','anxiety/depression/stress','Irregular_sleep','Fast food (Y/N)','Pregnant(Y/N)','No of aborptions','Hip(inch)','Waist(inch)','Weight gain(Y/N)','hair growth(Y/N)','Skin darkening (Y/N)','Hair loss(Y/N)','Pimples(Y/N)','Reg Exercise(Y/N)']] = df[[' Age (yrs)','Blood Group','Cycle length(days)','PCOS (Y/N)','Cycle(months)','Bloated','facial hair','chest hair','difficult to loose weight','mood swings','anxiety/depression/stress','Irregular_sleep','Fast food (Y/N)','Pregnant(Y/N)','No of aborptions','Hip(inch)','Waist(inch)','Weight gain(Y/N)','hair growth(Y/N)','Skin darkening (Y/N)','Hair loss(Y/N)','Pimples(Y/N)','Reg Exercise(Y/N)']].astype(float)"
      ],
      "execution_count": 16,
      "outputs": []
    },
    {
      "cell_type": "code",
      "metadata": {
        "id": "jwm4-06N4N7A",
        "colab_type": "code",
        "colab": {
          "base_uri": "https://localhost:8080/",
          "height": 655
        },
        "outputId": "c46058e7-b5fd-48d5-896d-6cb53b4113a7"
      },
      "source": [
        "df.info()"
      ],
      "execution_count": 17,
      "outputs": [
        {
          "output_type": "stream",
          "text": [
            "<class 'pandas.core.frame.DataFrame'>\n",
            "RangeIndex: 541 entries, 0 to 540\n",
            "Data columns (total 31 columns):\n",
            " #   Column                     Non-Null Count  Dtype  \n",
            "---  ------                     --------------  -----  \n",
            " 0   Sl No                      541 non-null    int64  \n",
            " 1   Patient File No            541 non-null    int64  \n",
            " 2   PCOS (Y/N)                 541 non-null    float64\n",
            " 3    Age (yrs)                 541 non-null    float64\n",
            " 4   Weight (Kg)                541 non-null    float64\n",
            " 5   Height(Cm)                 541 non-null    float64\n",
            " 6   BMI                        541 non-null    float64\n",
            " 7   Blood Group                541 non-null    float64\n",
            " 8   Pulse rate(bpm)            541 non-null    int64  \n",
            " 9   Cycle(months)              541 non-null    float64\n",
            " 10  Cycle length(days)         541 non-null    float64\n",
            " 11  Marriage Status (Yrs)      541 non-null    float64\n",
            " 12  Pregnant(Y/N)              541 non-null    float64\n",
            " 13  No of aborptions           541 non-null    float64\n",
            " 14  Bloated                    541 non-null    float64\n",
            " 15  facial hair                541 non-null    float64\n",
            " 16  chest hair                 541 non-null    float64\n",
            " 17  Hip(inch)                  541 non-null    float64\n",
            " 18  Waist(inch)                541 non-null    float64\n",
            " 19  Waist/Hip Ratio            541 non-null    float64\n",
            " 20  difficult to loose weight  541 non-null    float64\n",
            " 21  mood swings                541 non-null    float64\n",
            " 22  anxiety/depression/stress  541 non-null    float64\n",
            " 23  Irregular_sleep            541 non-null    float64\n",
            " 24  Weight gain(Y/N)           541 non-null    float64\n",
            " 25  hair growth(Y/N)           541 non-null    float64\n",
            " 26  Skin darkening (Y/N)       541 non-null    float64\n",
            " 27  Hair loss(Y/N)             541 non-null    float64\n",
            " 28  Pimples(Y/N)               541 non-null    float64\n",
            " 29  Fast food (Y/N)            541 non-null    float64\n",
            " 30  Reg Exercise(Y/N)          541 non-null    float64\n",
            "dtypes: float64(28), int64(3)\n",
            "memory usage: 131.1 KB\n"
          ],
          "name": "stdout"
        }
      ]
    },
    {
      "cell_type": "code",
      "metadata": {
        "id": "bkbep7oxMI1y",
        "colab_type": "code",
        "colab": {}
      },
      "source": [
        "from sklearn.linear_model import LogisticRegression"
      ],
      "execution_count": 18,
      "outputs": []
    },
    {
      "cell_type": "code",
      "metadata": {
        "id": "QpU0jRleMQma",
        "colab_type": "code",
        "colab": {}
      },
      "source": [
        "from sklearn.model_selection import train_test_split"
      ],
      "execution_count": 19,
      "outputs": []
    },
    {
      "cell_type": "code",
      "metadata": {
        "id": "aMZ-jInzg_zV",
        "colab_type": "code",
        "colab": {
          "base_uri": "https://localhost:8080/",
          "height": 655
        },
        "outputId": "26c80c8c-c578-4ea3-d448-cf4fdaca2dcb"
      },
      "source": [
        "df.info()"
      ],
      "execution_count": 35,
      "outputs": [
        {
          "output_type": "stream",
          "text": [
            "<class 'pandas.core.frame.DataFrame'>\n",
            "RangeIndex: 541 entries, 0 to 540\n",
            "Data columns (total 31 columns):\n",
            " #   Column                     Non-Null Count  Dtype  \n",
            "---  ------                     --------------  -----  \n",
            " 0   Sl No                      541 non-null    int64  \n",
            " 1   Patient File No            541 non-null    int64  \n",
            " 2   PCOS (Y/N)                 541 non-null    float64\n",
            " 3    Age (yrs)                 541 non-null    float64\n",
            " 4   Weight (Kg)                541 non-null    float64\n",
            " 5   Height(Cm)                 541 non-null    float64\n",
            " 6   BMI                        541 non-null    float64\n",
            " 7   Blood Group                541 non-null    float64\n",
            " 8   Pulse rate(bpm)            541 non-null    int64  \n",
            " 9   Cycle(months)              541 non-null    float64\n",
            " 10  Cycle length(days)         541 non-null    float64\n",
            " 11  Marriage Status (Yrs)      541 non-null    float64\n",
            " 12  Pregnant(Y/N)              541 non-null    float64\n",
            " 13  No of aborptions           541 non-null    float64\n",
            " 14  Bloated                    541 non-null    float64\n",
            " 15  facial hair                541 non-null    float64\n",
            " 16  chest hair                 541 non-null    float64\n",
            " 17  Hip(inch)                  541 non-null    float64\n",
            " 18  Waist(inch)                541 non-null    float64\n",
            " 19  Waist/Hip Ratio            541 non-null    float64\n",
            " 20  difficult to loose weight  541 non-null    float64\n",
            " 21  mood swings                541 non-null    float64\n",
            " 22  anxiety/depression/stress  541 non-null    float64\n",
            " 23  Irregular_sleep            541 non-null    float64\n",
            " 24  Weight gain(Y/N)           541 non-null    float64\n",
            " 25  hair growth(Y/N)           541 non-null    float64\n",
            " 26  Skin darkening (Y/N)       541 non-null    float64\n",
            " 27  Hair loss(Y/N)             541 non-null    float64\n",
            " 28  Pimples(Y/N)               541 non-null    float64\n",
            " 29  Fast food (Y/N)            541 non-null    float64\n",
            " 30  Reg Exercise(Y/N)          541 non-null    float64\n",
            "dtypes: float64(28), int64(3)\n",
            "memory usage: 131.1 KB\n"
          ],
          "name": "stdout"
        }
      ]
    },
    {
      "cell_type": "code",
      "metadata": {
        "id": "X72-5zGsMSGQ",
        "colab_type": "code",
        "colab": {}
      },
      "source": [
        "train = df.drop(['Sl No','Patient File No','PCOS (Y/N)','Pulse rate(bpm) '], axis=1)\n",
        "train= np.asarray(train, dtype='float64')\n",
        "test = df[['PCOS (Y/N)']]\n",
        "test= np.asarray(test, dtype='float64')"
      ],
      "execution_count": 20,
      "outputs": []
    },
    {
      "cell_type": "code",
      "metadata": {
        "id": "2-uNxzkpQPJS",
        "colab_type": "code",
        "colab": {
          "base_uri": "https://localhost:8080/",
          "height": 34
        },
        "outputId": "ed6bc941-f686-4fcf-fbdf-0b726014fb05"
      },
      "source": [
        "test.shape"
      ],
      "execution_count": 21,
      "outputs": [
        {
          "output_type": "execute_result",
          "data": {
            "text/plain": [
              "(541, 1)"
            ]
          },
          "metadata": {
            "tags": []
          },
          "execution_count": 21
        }
      ]
    },
    {
      "cell_type": "code",
      "metadata": {
        "id": "oj-e1OGYQUA7",
        "colab_type": "code",
        "colab": {}
      },
      "source": [
        "X_train, X_test, y_train, y_test = train_test_split(train,test, test_size=0.3, random_state=0)"
      ],
      "execution_count": 22,
      "outputs": []
    },
    {
      "cell_type": "code",
      "metadata": {
        "id": "9Ktm5a-fQdhf",
        "colab_type": "code",
        "colab": {}
      },
      "source": [
        "reg = LogisticRegression()"
      ],
      "execution_count": 23,
      "outputs": []
    },
    {
      "cell_type": "code",
      "metadata": {
        "id": "xCgq6WMAQe8y",
        "colab_type": "code",
        "colab": {
          "base_uri": "https://localhost:8080/",
          "height": 289
        },
        "outputId": "3c360c50-6f47-480f-bde1-6d1dfcb5dfc7"
      },
      "source": [
        "reg.fit(X_train, y_train)"
      ],
      "execution_count": 24,
      "outputs": [
        {
          "output_type": "stream",
          "text": [
            "/usr/local/lib/python3.6/dist-packages/sklearn/utils/validation.py:760: DataConversionWarning: A column-vector y was passed when a 1d array was expected. Please change the shape of y to (n_samples, ), for example using ravel().\n",
            "  y = column_or_1d(y, warn=True)\n",
            "/usr/local/lib/python3.6/dist-packages/sklearn/linear_model/_logistic.py:940: ConvergenceWarning: lbfgs failed to converge (status=1):\n",
            "STOP: TOTAL NO. of ITERATIONS REACHED LIMIT.\n",
            "\n",
            "Increase the number of iterations (max_iter) or scale the data as shown in:\n",
            "    https://scikit-learn.org/stable/modules/preprocessing.html\n",
            "Please also refer to the documentation for alternative solver options:\n",
            "    https://scikit-learn.org/stable/modules/linear_model.html#logistic-regression\n",
            "  extra_warning_msg=_LOGISTIC_SOLVER_CONVERGENCE_MSG)\n"
          ],
          "name": "stderr"
        },
        {
          "output_type": "execute_result",
          "data": {
            "text/plain": [
              "LogisticRegression(C=1.0, class_weight=None, dual=False, fit_intercept=True,\n",
              "                   intercept_scaling=1, l1_ratio=None, max_iter=100,\n",
              "                   multi_class='auto', n_jobs=None, penalty='l2',\n",
              "                   random_state=None, solver='lbfgs', tol=0.0001, verbose=0,\n",
              "                   warm_start=False)"
            ]
          },
          "metadata": {
            "tags": []
          },
          "execution_count": 24
        }
      ]
    },
    {
      "cell_type": "code",
      "metadata": {
        "id": "6hSAkfz6nXDq",
        "colab_type": "code",
        "colab": {}
      },
      "source": [
        "pred = reg.predict(X_test)"
      ],
      "execution_count": 25,
      "outputs": []
    },
    {
      "cell_type": "code",
      "metadata": {
        "id": "iE-JM8ssnlg0",
        "colab_type": "code",
        "colab": {
          "base_uri": "https://localhost:8080/",
          "height": 185
        },
        "outputId": "3906fb4c-4095-4914-e0d9-9e3571cfecd7"
      },
      "source": [
        "pred"
      ],
      "execution_count": 26,
      "outputs": [
        {
          "output_type": "execute_result",
          "data": {
            "text/plain": [
              "array([0., 1., 0., 0., 0., 0., 0., 1., 1., 0., 1., 0., 0., 0., 0., 0., 0.,\n",
              "       0., 0., 0., 0., 1., 1., 1., 0., 0., 0., 0., 1., 0., 0., 1., 0., 1.,\n",
              "       0., 1., 0., 0., 0., 0., 1., 0., 1., 0., 0., 0., 1., 1., 1., 1., 1.,\n",
              "       0., 1., 0., 0., 1., 0., 1., 0., 0., 0., 1., 0., 1., 1., 0., 1., 0.,\n",
              "       1., 1., 1., 1., 0., 0., 0., 1., 1., 0., 0., 0., 0., 0., 0., 0., 0.,\n",
              "       0., 1., 0., 1., 1., 0., 1., 1., 0., 1., 0., 1., 1., 0., 0., 0., 0.,\n",
              "       0., 0., 0., 0., 0., 0., 0., 0., 1., 1., 0., 1., 0., 1., 0., 0., 0.,\n",
              "       0., 1., 0., 1., 0., 1., 0., 0., 1., 0., 0., 0., 0., 0., 0., 0., 0.,\n",
              "       1., 1., 0., 0., 0., 1., 0., 1., 0., 0., 0., 0., 0., 0., 0., 1., 0.,\n",
              "       0., 0., 0., 0., 1., 0., 0., 1., 0., 0.])"
            ]
          },
          "metadata": {
            "tags": []
          },
          "execution_count": 26
        }
      ]
    },
    {
      "cell_type": "code",
      "metadata": {
        "id": "n59Gy526noWx",
        "colab_type": "code",
        "colab": {
          "base_uri": "https://localhost:8080/",
          "height": 34
        },
        "outputId": "a815dadd-618e-4f42-ec79-afbb8b4de6ad"
      },
      "source": [
        "reg.score(X_test, y_test)"
      ],
      "execution_count": 27,
      "outputs": [
        {
          "output_type": "execute_result",
          "data": {
            "text/plain": [
              "1.0"
            ]
          },
          "metadata": {
            "tags": []
          },
          "execution_count": 27
        }
      ]
    },
    {
      "cell_type": "markdown",
      "metadata": {
        "id": "9_DxX7txn07M",
        "colab_type": "text"
      },
      "source": [
        "With an excellant accuracy of 99.38 %"
      ]
    },
    {
      "cell_type": "code",
      "metadata": {
        "id": "ot4gveNrnypk",
        "colab_type": "code",
        "colab": {
          "base_uri": "https://localhost:8080/",
          "height": 34
        },
        "outputId": "c5166827-bce4-4483-b26f-a41ca5d169fd"
      },
      "source": [
        "X_test.shape"
      ],
      "execution_count": 28,
      "outputs": [
        {
          "output_type": "execute_result",
          "data": {
            "text/plain": [
              "(163, 27)"
            ]
          },
          "metadata": {
            "tags": []
          },
          "execution_count": 28
        }
      ]
    },
    {
      "cell_type": "code",
      "metadata": {
        "id": "fpoXOLw5oRjY",
        "colab_type": "code",
        "colab": {}
      },
      "source": [
        "x=[[40,45,20,1,0,0,0,0,0,0,0,0,0,0,0,0,0,0,0,0,0,0,0,0,0,0,0]]"
      ],
      "execution_count": 32,
      "outputs": []
    },
    {
      "cell_type": "code",
      "metadata": {
        "id": "GLogYfaAoVg-",
        "colab_type": "code",
        "colab": {
          "base_uri": "https://localhost:8080/",
          "height": 34
        },
        "outputId": "ad85582c-cd51-43cb-8bcb-7c22f5cf553d"
      },
      "source": [
        "o = reg.predict(x)\n",
        "print (o)"
      ],
      "execution_count": 33,
      "outputs": [
        {
          "output_type": "stream",
          "text": [
            "[1.]\n"
          ],
          "name": "stdout"
        }
      ]
    },
    {
      "cell_type": "code",
      "metadata": {
        "id": "dCebB9Eph4Dl",
        "colab_type": "code",
        "colab": {}
      },
      "source": [
        "import pickle\n",
        "pickle.dump(reg,open('model.pkl','wb'))\n",
        "model=pickle.load(open('model.pkl','rb'))"
      ],
      "execution_count": 34,
      "outputs": []
    }
  ]
}
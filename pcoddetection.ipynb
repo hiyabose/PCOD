{
  "nbformat": 4,
  "nbformat_minor": 0,
  "metadata": {
    "colab": {
      "name": "pcoddetection.ipynb",
      "provenance": [],
      "collapsed_sections": [],
      "authorship_tag": "ABX9TyOm0mPWoSW5HXOpzKTKlsI3",
      "include_colab_link": true
    },
    "kernelspec": {
      "name": "python3",
      "display_name": "Python 3"
    }
  },
  "cells": [
    {
      "cell_type": "markdown",
      "metadata": {
        "id": "view-in-github",
        "colab_type": "text"
      },
      "source": [
        "<a href=\"https://colab.research.google.com/github/hiyabose/PCOD/blob/master/pcoddetection.ipynb\" target=\"_parent\"><img src=\"https://colab.research.google.com/assets/colab-badge.svg\" alt=\"Open In Colab\"/></a>"
      ]
    },
    {
      "cell_type": "code",
      "metadata": {
        "id": "ueA3mH-ypzLz"
      },
      "source": [
        ""
      ],
      "execution_count": null,
      "outputs": []
    },
    {
      "cell_type": "code",
      "metadata": {
        "id": "bjmwDY3mZOgj"
      },
      "source": [
        "import numpy as np #create arrays\n",
        "import pandas as pd\n",
        "import matplotlib.pyplot as plt #plot data\n",
        "import seaborn as sns #plot data\n",
        "import missingno as ms #plot missing data"
      ],
      "execution_count": null,
      "outputs": []
    },
    {
      "cell_type": "code",
      "metadata": {
        "id": "hR_xrGrqcJoU"
      },
      "source": [
        "df = pd.read_csv('https://raw.githubusercontent.com/hiyabose/PCOSmopolitan-1/master/pcos.csv', sep=',' , encoding='latin-1')"
      ],
      "execution_count": null,
      "outputs": []
    },
    {
      "cell_type": "code",
      "metadata": {
        "id": "2TFmWIMIc7p4",
        "colab": {
          "base_uri": "https://localhost:8080/"
        },
        "outputId": "ea2f2263-ab93-43ff-c424-5798f39a1f47"
      },
      "source": [
        "df.info()"
      ],
      "execution_count": null,
      "outputs": [
        {
          "output_type": "stream",
          "text": [
            "<class 'pandas.core.frame.DataFrame'>\n",
            "RangeIndex: 541 entries, 0 to 540\n",
            "Data columns (total 31 columns):\n",
            " #   Column                     Non-Null Count  Dtype  \n",
            "---  ------                     --------------  -----  \n",
            " 0   Sl No                      541 non-null    int64  \n",
            " 1   Patient File No            541 non-null    int64  \n",
            " 2   PCOS (Y/N)                 541 non-null    int64  \n",
            " 3    Age (yrs)                 541 non-null    int64  \n",
            " 4   Pregnant(Y/N)              541 non-null    int64  \n",
            " 5   No of aborptions           541 non-null    int64  \n",
            " 6   Bloated                    541 non-null    int64  \n",
            " 7   facial hair                541 non-null    int64  \n",
            " 8   chest hair                 541 non-null    int64  \n",
            " 9   difficult to loose weight  541 non-null    int64  \n",
            " 10  mood swings                541 non-null    int64  \n",
            " 11  anxiety/depression/stress  541 non-null    int64  \n",
            " 12  Irregular_sleep            541 non-null    int64  \n",
            " 13  Weight gain(Y/N)           541 non-null    int64  \n",
            " 14  hair growth(Y/N)           541 non-null    int64  \n",
            " 15  Skin darkening (Y/N)       541 non-null    int64  \n",
            " 16  Hair loss(Y/N)             541 non-null    int64  \n",
            " 17  Pimples(Y/N)               541 non-null    int64  \n",
            " 18  Fast food (Y/N)            541 non-null    int64  \n",
            " 19  Reg Exercise(Y/N)          541 non-null    int64  \n",
            " 20  Weight (Kg)                541 non-null    float64\n",
            " 21  Height(Cm)                 541 non-null    float64\n",
            " 22  BMI                        541 non-null    float64\n",
            " 23  Blood Group                541 non-null    int64  \n",
            " 24  Pulse rate(bpm)            541 non-null    int64  \n",
            " 25  Cycle(months)              541 non-null    int64  \n",
            " 26  Cycle length(days)         541 non-null    int64  \n",
            " 27  Marriage Status (Yrs)      541 non-null    float64\n",
            " 28  Hip(inch)                  541 non-null    int64  \n",
            " 29  Waist(inch)                541 non-null    int64  \n",
            " 30  Waist/Hip Ratio            541 non-null    float64\n",
            "dtypes: float64(5), int64(26)\n",
            "memory usage: 131.1 KB\n"
          ],
          "name": "stdout"
        }
      ]
    },
    {
      "cell_type": "code",
      "metadata": {
        "id": "gkLsoDpOdPtK"
      },
      "source": [
        "\n",
        "df[[' Age (yrs)','Blood Group','Cycle length(days)','PCOS (Y/N)','Cycle(months)','Bloated','facial hair','chest hair','difficult to loose weight','mood swings','anxiety/depression/stress','Irregular_sleep','Fast food (Y/N)','Pregnant(Y/N)','No of aborptions','Hip(inch)','Waist(inch)','Weight gain(Y/N)','hair growth(Y/N)','Skin darkening (Y/N)','Hair loss(Y/N)','Pimples(Y/N)','Reg Exercise(Y/N)']] = df[[' Age (yrs)','Blood Group','Cycle length(days)','PCOS (Y/N)','Cycle(months)','Bloated','facial hair','chest hair','difficult to loose weight','mood swings','anxiety/depression/stress','Irregular_sleep','Fast food (Y/N)','Pregnant(Y/N)','No of aborptions','Hip(inch)','Waist(inch)','Weight gain(Y/N)','hair growth(Y/N)','Skin darkening (Y/N)','Hair loss(Y/N)','Pimples(Y/N)','Reg Exercise(Y/N)']].astype(float)"
      ],
      "execution_count": null,
      "outputs": []
    },
    {
      "cell_type": "code",
      "metadata": {
        "id": "jwm4-06N4N7A",
        "colab": {
          "base_uri": "https://localhost:8080/"
        },
        "outputId": "c42b05d7-7822-48ed-e46a-56ff42b9a09a"
      },
      "source": [
        "df.info()"
      ],
      "execution_count": null,
      "outputs": [
        {
          "output_type": "stream",
          "text": [
            "<class 'pandas.core.frame.DataFrame'>\n",
            "RangeIndex: 541 entries, 0 to 540\n",
            "Data columns (total 31 columns):\n",
            " #   Column                     Non-Null Count  Dtype  \n",
            "---  ------                     --------------  -----  \n",
            " 0   Sl No                      541 non-null    int64  \n",
            " 1   Patient File No            541 non-null    int64  \n",
            " 2   PCOS (Y/N)                 541 non-null    float64\n",
            " 3    Age (yrs)                 541 non-null    float64\n",
            " 4   Pregnant(Y/N)              541 non-null    float64\n",
            " 5   No of aborptions           541 non-null    float64\n",
            " 6   Bloated                    541 non-null    float64\n",
            " 7   facial hair                541 non-null    float64\n",
            " 8   chest hair                 541 non-null    float64\n",
            " 9   difficult to loose weight  541 non-null    float64\n",
            " 10  mood swings                541 non-null    float64\n",
            " 11  anxiety/depression/stress  541 non-null    float64\n",
            " 12  Irregular_sleep            541 non-null    float64\n",
            " 13  Weight gain(Y/N)           541 non-null    float64\n",
            " 14  hair growth(Y/N)           541 non-null    float64\n",
            " 15  Skin darkening (Y/N)       541 non-null    float64\n",
            " 16  Hair loss(Y/N)             541 non-null    float64\n",
            " 17  Pimples(Y/N)               541 non-null    float64\n",
            " 18  Fast food (Y/N)            541 non-null    float64\n",
            " 19  Reg Exercise(Y/N)          541 non-null    float64\n",
            " 20  Weight (Kg)                541 non-null    float64\n",
            " 21  Height(Cm)                 541 non-null    float64\n",
            " 22  BMI                        541 non-null    float64\n",
            " 23  Blood Group                541 non-null    float64\n",
            " 24  Pulse rate(bpm)            541 non-null    int64  \n",
            " 25  Cycle(months)              541 non-null    float64\n",
            " 26  Cycle length(days)         541 non-null    float64\n",
            " 27  Marriage Status (Yrs)      541 non-null    float64\n",
            " 28  Hip(inch)                  541 non-null    float64\n",
            " 29  Waist(inch)                541 non-null    float64\n",
            " 30  Waist/Hip Ratio            541 non-null    float64\n",
            "dtypes: float64(28), int64(3)\n",
            "memory usage: 131.1 KB\n"
          ],
          "name": "stdout"
        }
      ]
    },
    {
      "cell_type": "code",
      "metadata": {
        "id": "bkbep7oxMI1y"
      },
      "source": [
        "from sklearn.linear_model import LogisticRegression"
      ],
      "execution_count": 33,
      "outputs": []
    },
    {
      "cell_type": "code",
      "metadata": {
        "id": "QpU0jRleMQma"
      },
      "source": [
        "from sklearn.model_selection import train_test_split"
      ],
      "execution_count": null,
      "outputs": []
    },
    {
      "cell_type": "code",
      "metadata": {
        "id": "X72-5zGsMSGQ"
      },
      "source": [
        "train = df.drop(['Sl No','Patient File No','PCOS (Y/N)','Pulse rate(bpm) '], axis=1)\n",
        "train= np.asarray(train, dtype='float64')\n",
        "test = df['PCOS (Y/N)']\n",
        "test= np.asarray(test, dtype='float64')"
      ],
      "execution_count": null,
      "outputs": []
    },
    {
      "cell_type": "code",
      "metadata": {
        "id": "2-uNxzkpQPJS",
        "colab": {
          "base_uri": "https://localhost:8080/"
        },
        "outputId": "5b4ed9c8-7a3c-4b11-cf93-eb9ff2aacb87"
      },
      "source": [
        "test.shape"
      ],
      "execution_count": null,
      "outputs": [
        {
          "output_type": "execute_result",
          "data": {
            "text/plain": [
              "(541,)"
            ]
          },
          "metadata": {
            "tags": []
          },
          "execution_count": 12
        }
      ]
    },
    {
      "cell_type": "code",
      "metadata": {
        "id": "oj-e1OGYQUA7"
      },
      "source": [
        "X_train, X_test, y_train, y_test = train_test_split(train,test, test_size=0.2, random_state=2)"
      ],
      "execution_count": null,
      "outputs": []
    },
    {
      "cell_type": "code",
      "metadata": {
        "id": "qBVWTPFEF3p4"
      },
      "source": [
        "lin_reg = LogisticRegression(solver='lbfgs', max_iter=1000)"
      ],
      "execution_count": 38,
      "outputs": []
    },
    {
      "cell_type": "code",
      "metadata": {
        "id": "ZSrw1gUUGyNJ",
        "colab": {
          "base_uri": "https://localhost:8080/"
        },
        "outputId": "f4925c5d-524f-40ea-9d63-2c541fce89ce"
      },
      "source": [
        "#Train the model using the training sets\n",
        "lin_reg.fit(X_train, y_train)"
      ],
      "execution_count": 39,
      "outputs": [
        {
          "output_type": "execute_result",
          "data": {
            "text/plain": [
              "LogisticRegression(C=1.0, class_weight=None, dual=False, fit_intercept=True,\n",
              "                   intercept_scaling=1, l1_ratio=None, max_iter=1000,\n",
              "                   multi_class='auto', n_jobs=None, penalty='l2',\n",
              "                   random_state=None, solver='lbfgs', tol=0.0001, verbose=0,\n",
              "                   warm_start=False)"
            ]
          },
          "metadata": {
            "tags": []
          },
          "execution_count": 39
        }
      ]
    },
    {
      "cell_type": "code",
      "metadata": {
        "id": "GL2Ne-ivG02k"
      },
      "source": [
        "#Predict the response for test dataset\n",
        "y_pred = lin_reg.predict(X_test)"
      ],
      "execution_count": 40,
      "outputs": []
    },
    {
      "cell_type": "code",
      "metadata": {
        "id": "CdnpBgM-9Wb1",
        "colab": {
          "base_uri": "https://localhost:8080/"
        },
        "outputId": "925ec87a-ed37-4555-e91f-6d918343fbb9"
      },
      "source": [
        "y_train.shape,y_test.shape"
      ],
      "execution_count": 41,
      "outputs": [
        {
          "output_type": "execute_result",
          "data": {
            "text/plain": [
              "((432,), (109,))"
            ]
          },
          "metadata": {
            "tags": []
          },
          "execution_count": 41
        }
      ]
    },
    {
      "cell_type": "markdown",
      "metadata": {
        "id": "xt_SgjOPl4XD"
      },
      "source": [
        ""
      ]
    },
    {
      "cell_type": "code",
      "metadata": {
        "id": "iE-JM8ssnlg0",
        "colab": {
          "base_uri": "https://localhost:8080/"
        },
        "outputId": "e35ad10b-2522-4f83-db5a-78e0b8055163"
      },
      "source": [
        "y_pred"
      ],
      "execution_count": 42,
      "outputs": [
        {
          "output_type": "execute_result",
          "data": {
            "text/plain": [
              "array([0., 0., 0., 0., 0., 1., 1., 0., 0., 1., 1., 1., 0., 0., 1., 1., 0.,\n",
              "       1., 1., 0., 1., 0., 0., 1., 0., 0., 0., 0., 0., 0., 1., 1., 0., 0.,\n",
              "       0., 1., 0., 0., 1., 0., 0., 0., 1., 1., 0., 0., 1., 1., 0., 1., 0.,\n",
              "       1., 0., 1., 0., 0., 1., 0., 0., 1., 1., 0., 0., 0., 1., 0., 1., 1.,\n",
              "       0., 1., 0., 0., 1., 0., 0., 0., 1., 1., 1., 0., 0., 1., 1., 0., 1.,\n",
              "       0., 1., 0., 1., 0., 1., 1., 0., 0., 0., 0., 0., 0., 0., 1., 0., 0.,\n",
              "       0., 1., 0., 0., 0., 0., 1.])"
            ]
          },
          "metadata": {
            "tags": []
          },
          "execution_count": 42
        }
      ]
    },
    {
      "cell_type": "code",
      "metadata": {
        "id": "n59Gy526noWx",
        "colab": {
          "base_uri": "https://localhost:8080/"
        },
        "outputId": "a759aa3b-d575-4d8d-c510-f02c5ea807e7"
      },
      "source": [
        "lin_reg.score(X_test, y_test)"
      ],
      "execution_count": 43,
      "outputs": [
        {
          "output_type": "execute_result",
          "data": {
            "text/plain": [
              "1.0"
            ]
          },
          "metadata": {
            "tags": []
          },
          "execution_count": 43
        }
      ]
    },
    {
      "cell_type": "markdown",
      "metadata": {
        "id": "9_DxX7txn07M"
      },
      "source": [
        "With an excellant accuracy of 99.38 %"
      ]
    },
    {
      "cell_type": "code",
      "metadata": {
        "id": "ot4gveNrnypk",
        "colab": {
          "base_uri": "https://localhost:8080/"
        },
        "outputId": "ffb1a781-16a1-4bfe-8a3c-73de9e45f485"
      },
      "source": [
        "X_test.shape"
      ],
      "execution_count": 26,
      "outputs": [
        {
          "output_type": "execute_result",
          "data": {
            "text/plain": [
              "(109, 27)"
            ]
          },
          "metadata": {
            "tags": []
          },
          "execution_count": 26
        }
      ]
    },
    {
      "cell_type": "code",
      "metadata": {
        "id": "fpoXOLw5oRjY"
      },
      "source": [
        "x=[[28,0,0,0,0,0,0,0,1,0,0,0,0,0,1,0,44,152,19.3,15,78,1,5,7,36,30,0.83333]]"
      ],
      "execution_count": 27,
      "outputs": []
    },
    {
      "cell_type": "code",
      "metadata": {
        "id": "GLogYfaAoVg-",
        "colab": {
          "base_uri": "https://localhost:8080/"
        },
        "outputId": "d212ef73-cb1c-4147-81d9-33f155eb5600"
      },
      "source": [
        "o = lin_reg.predict(x)\n",
        "print (o)"
      ],
      "execution_count": 29,
      "outputs": [
        {
          "output_type": "stream",
          "text": [
            "[-2.58027035e-14]\n"
          ],
          "name": "stdout"
        }
      ]
    },
    {
      "cell_type": "code",
      "metadata": {
        "id": "dCebB9Eph4Dl"
      },
      "source": [
        "import pickle\n",
        "pickle.dump(lin_reg,open('model.pkl','wb'))\n",
        "model=pickle.load(open('model.pkl','rb'))"
      ],
      "execution_count": 31,
      "outputs": []
    }
  ]
}